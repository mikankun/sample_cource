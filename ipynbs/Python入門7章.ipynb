{
 "cells": [
  {
   "cell_type": "markdown",
   "metadata": {},
   "source": [
    "## 7.1 モジュールの作成"
   ]
  },
  {
   "cell_type": "markdown",
   "metadata": {},
   "source": [
    "他のプログラムから利用できるようにしたPythonのファイルを<u>**モジュール**</u>と言います。  "
   ]
  },
  {
   "cell_type": "code",
   "execution_count": 1,
   "metadata": {},
   "outputs": [],
   "source": [
    "# モジュールの作成\n",
    "def printMsg(msg):\n",
    "    print(msg)"
   ]
  },
  {
   "cell_type": "markdown",
   "metadata": {},
   "source": [
    "上記のファイルを「print.py」という名前で保存します。"
   ]
  },
  {
   "cell_type": "markdown",
   "metadata": {},
   "source": [
    "## 7.2 モジュールの利用"
   ]
  },
  {
   "cell_type": "markdown",
   "metadata": {},
   "source": [
    "モジュールはimportすることで他のプログラムで読み込まれ、利用することができます。  \n",
    "読み込む際はimportを使用し、実際に利用する際には、「モジュール名.関数名()」でモジュールに定義された関数を呼び出すことができます。\n",
    "~~~\n",
    "import モジュール名\n",
    "・\n",
    "・\n",
    "・\n",
    "モジュール名.関数名()\n",
    "~~~"
   ]
  },
  {
   "cell_type": "code",
   "execution_count": 2,
   "metadata": {},
   "outputs": [
    {
     "name": "stdout",
     "output_type": "stream",
     "text": [
      "Hello,Pyhton!\n"
     ]
    }
   ],
   "source": [
    "# モジュールの読み込み\n",
    "import print\n",
    "\n",
    "# モジュールの利用\n",
    "print.printMsg('Hello,Pyhton!')"
   ]
  },
  {
   "cell_type": "markdown",
   "metadata": {},
   "source": [
    "#### fromの使用  \n",
    "プログラム上で何度も同じモジュールを呼び出す場合には、fromを使用すると、「モジュール名.関数名()」という記載を省略し、処理を簡潔に記述することができます。\n",
    "\n",
    "~~~\n",
    "from モジュール名 import クラス名、関数名、変数名などを指定\n",
    "~~~"
   ]
  },
  {
   "cell_type": "code",
   "execution_count": 3,
   "metadata": {},
   "outputs": [
    {
     "name": "stdout",
     "output_type": "stream",
     "text": [
      "Hello,Pyhton!\n"
     ]
    }
   ],
   "source": [
    "# モジュールの読み込み(formを指定)\n",
    "from print import printMsg # printMsgという関数を使用する。\n",
    "\n",
    "# モジュールの利用\n",
    "printMsg('Hello,Pyhton!')"
   ]
  },
  {
   "cell_type": "markdown",
   "metadata": {},
   "source": [
    "#### パッケージ  \n",
    "複数のモジュールをまとめたものを<u>**パッケージ**</u>と呼びます。  \n",
    "パッケージは、「\\__init__.py」というファイルとモジュールファイルで構成されたフォルダです。  \n",
    "\n",
    "~~~\n",
    "pac1/  \n",
    "├ __init__.py  \n",
    "├ print2.py  \n",
    "・  \n",
    "・  \n",
    "・ \n",
    "~~~\n",
    "\n",
    "使用する際は、importを使用して読み込みます。  \n",
    "\n",
    "~~~\n",
    "import パッケージ名.モジュール名\n",
    "・\n",
    "・\n",
    "・\n",
    "パッケージ名.モジュール名.関数名()\n",
    "~~~\n",
    "\n",
    "fromを使用することもできます。  \n",
    "\n",
    "~~~\n",
    "from パッケージ名.モジュール名 import クラス名、関数名、変数名などを指定\n",
    "~~~"
   ]
  },
  {
   "cell_type": "code",
   "execution_count": 4,
   "metadata": {},
   "outputs": [
    {
     "name": "stdout",
     "output_type": "stream",
     "text": [
      "こんにちは,Pyhton!\n"
     ]
    }
   ],
   "source": [
    "#　パッケージの読み込み\n",
    "import pac1.print2\n",
    "\n",
    "# モジュールの利用\n",
    "pac1.print2.printMsg('こんにちは,Pyhton!')"
   ]
  },
  {
   "cell_type": "code",
   "execution_count": 5,
   "metadata": {},
   "outputs": [
    {
     "name": "stdout",
     "output_type": "stream",
     "text": [
      "こんにちは,Pyhton!\n"
     ]
    }
   ],
   "source": [
    "# パッケージの読み込み(formを指定)\n",
    "from pac1.print2 import printMsg # printMsgという関数を使用する。\n",
    "\n",
    "# モジュールの利用\n",
    "printMsg('こんにちは,Pyhton!')"
   ]
  },
  {
   "cell_type": "code",
   "execution_count": null,
   "metadata": {},
   "outputs": [],
   "source": []
  }
 ],
 "metadata": {
  "kernelspec": {
   "display_name": "Py36AI",
   "language": "python",
   "name": "python3"
  },
  "language_info": {
   "codemirror_mode": {
    "name": "ipython",
    "version": 3
   },
   "file_extension": ".py",
   "mimetype": "text/x-python",
   "name": "python",
   "nbconvert_exporter": "python",
   "pygments_lexer": "ipython3",
   "version": "3.6.7"
  }
 },
 "nbformat": 4,
 "nbformat_minor": 2
}
