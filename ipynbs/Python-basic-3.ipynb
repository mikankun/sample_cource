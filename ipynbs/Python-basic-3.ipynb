{
 "cells": [
  {
   "cell_type": "markdown",
   "metadata": {},
   "source": [
    "## 3-1 コメント"
   ]
  },
  {
   "cell_type": "markdown",
   "metadata": {},
   "source": [
    "Pythonでは、#以降の内容は全てコメントとして扱われます。"
   ]
  },
  {
   "cell_type": "code",
   "execution_count": 1,
   "metadata": {},
   "outputs": [
    {
     "name": "stdout",
     "output_type": "stream",
     "text": [
      "10\n"
     ]
    }
   ],
   "source": [
    "i=10\n",
    "#ここがコメントです。\n",
    "print(i) #comment"
   ]
  },
  {
   "cell_type": "markdown",
   "metadata": {},
   "source": [
    "複数行のコメントを記述したい場合は、\"\"\"( 3連の2重引用符) または、'''(3連の１重引用符）でコメントを囲みます。"
   ]
  },
  {
   "cell_type": "code",
   "execution_count": 2,
   "metadata": {
    "scrolled": true
   },
   "outputs": [
    {
     "name": "stdout",
     "output_type": "stream",
     "text": [
      "30\n",
      "Hello,Python!\n"
     ]
    }
   ],
   "source": [
    "num1 = 10\n",
    "num2 = 20\n",
    "\"\"\"\n",
    "num1とnum2の値を計算して表示します。\n",
    "Hello,Python!の文字列を表示します。\n",
    "\"\"\"\n",
    "print(num1 + num2)\n",
    "print('Hello,Python!')"
   ]
  },
  {
   "cell_type": "markdown",
   "metadata": {},
   "source": [
    "#### <span style=\"color:red\">注意！</span> \n",
    "複数行のコメントを記載する場合は、インデントを前の行と揃えないとIndentationError: unexpected indentが発生します。"
   ]
  },
  {
   "cell_type": "code",
   "execution_count": 1,
   "metadata": {},
   "outputs": [
    {
     "ename": "IndentationError",
     "evalue": "unexpected indent (<ipython-input-1-090f0b53a700>, line 3)",
     "output_type": "error",
     "traceback": [
      "\u001b[0;36m  File \u001b[0;32m\"<ipython-input-1-090f0b53a700>\"\u001b[0;36m, line \u001b[0;32m3\u001b[0m\n\u001b[0;31m    '''\u001b[0m\n\u001b[0m    ^\u001b[0m\n\u001b[0;31mIndentationError\u001b[0m\u001b[0;31m:\u001b[0m unexpected indent\n"
     ]
    }
   ],
   "source": [
    "num1 = 10\n",
    "num2 = 20\n",
    "    '''\n",
    "    num1とnum2の値を計算して表示します。\n",
    "    Hello,Python!の文字列を表示します。\n",
    "    '''\n",
    "print(num1 + num2)\n",
    "print('Hello,Python!')"
   ]
  },
  {
   "cell_type": "markdown",
   "metadata": {},
   "source": [
    "## 3-2 インデント"
   ]
  },
  {
   "cell_type": "markdown",
   "metadata": {},
   "source": [
    "Pythonはインデントによって処理の範囲を定義することがルールとして決まっているため、適切にインデントを使いソースコードを整形しないと  \n",
    "エラーになります。  \n",
    "インデントされた範囲を**ブロック**といい、特に分岐や繰り返し処理などのブロック構造を表す場合に使用します。"
   ]
  },
  {
   "cell_type": "code",
   "execution_count": 4,
   "metadata": {},
   "outputs": [
    {
     "name": "stdout",
     "output_type": "stream",
     "text": [
      "番号は 1 です。\n",
      "番号は 2 です。\n",
      "番号は 3 です。\n",
      "番号は 4 です。\n",
      "繰り返し終了\n"
     ]
    }
   ],
   "source": [
    "num_list = [1,2,3,4]\n",
    "# num_listの０番目から順にnumに値が代入される\n",
    "for num in num_list:\n",
    "    # インデントされている部分が繰り返し対象。\n",
    "    print('番号は', num, 'です。')\n",
    "    \n",
    "print('繰り返し終了')"
   ]
  },
  {
   "cell_type": "markdown",
   "metadata": {},
   "source": [
    "#### <span style=\"color:red\">ポイント</span> \n",
    "インデントを入れる際は、半角スペース4個が推奨されていますが、Tabキーを一度押すことで1インデント分(半角スペース4個と同じ)が入力できるので、  \n",
    "インデントはTabキーで入力してください。"
   ]
  },
  {
   "cell_type": "markdown",
   "metadata": {},
   "source": [
    "## 3-3 変数"
   ]
  },
  {
   "cell_type": "markdown",
   "metadata": {},
   "source": [
    "変数とは、簡単に言うと「値に名前をつけて入れておける箱」のようなものです。  \n",
    "変数を利用することで、同じ値を複数の行で使用することができるようになります。"
   ]
  },
  {
   "cell_type": "code",
   "execution_count": 1,
   "metadata": {},
   "outputs": [
    {
     "name": "stdout",
     "output_type": "stream",
     "text": [
      "計算する値は 10 です。\n",
      "計算する値は 20 です。\n",
      "計算結果は 30 です。\n"
     ]
    }
   ],
   "source": [
    "# 変数を使用しない例\n",
    "\n",
    "# 計算する値を表示\n",
    "print('計算する値は',10,'です。')\n",
    "print('計算する値は',20,'です。')\n",
    "# 計算結果を表示\n",
    "print('計算結果は',10 + 20,'です。')"
   ]
  },
  {
   "cell_type": "code",
   "execution_count": 4,
   "metadata": {},
   "outputs": [],
   "source": [
    "a = 10\n",
    "b = 20\n",
    "\n",
    "a,b = 10,20 #まとめて代入"
   ]
  },
  {
   "cell_type": "markdown",
   "metadata": {},
   "source": [
    "上記の変数を使用しない例だと、もし計算する値の10を変更したい場合、何箇所も同じ値を書き替えなければなりません。  \n",
    "そこで、「値に名前をつけて入れておける箱」である変数を使用し、変数を書くだけで複数行で同じ値を使えるようにします。"
   ]
  },
  {
   "cell_type": "code",
   "execution_count": 6,
   "metadata": {},
   "outputs": [
    {
     "name": "stdout",
     "output_type": "stream",
     "text": [
      "計算する値は 10 です。\n",
      "計算する値は 20 です。\n",
      "計算結果は 30 です。\n"
     ]
    }
   ],
   "source": [
    "# 変数を使用する例\n",
    "\n",
    "# 変数の宣言\n",
    "num1 = 10\n",
    "num2 = 20\n",
    "# 計算する値を表示\n",
    "print('計算する値は',num1,'です。')\n",
    "print('計算する値は',num2,'です。')\n",
    "# 計算結果を表示\n",
    "num3 = num1 + num2\n",
    "print('計算結果は',num3,'です。')"
   ]
  },
  {
   "cell_type": "markdown",
   "metadata": {},
   "source": [
    "変数を使用すると、num1に代入している値を変更したい場合は、num1の値を書き替えるだけでいいことがわかります。  \n",
    "変数に値を入れる時は、次の形式で記載します。\n",
    "\n",
    "~~~\n",
    "変数名 = 値\n",
    "~~~\n",
    "例\n",
    "~~~python\n",
    "num1 = 10\n",
    "~~~\n",
    "\n",
    "変数に値を入れることを「**代入**」といいます。  \n",
    "また、変数に代入された値を他の行で利用することを「**参照**」といいます。\n",
    "\n",
    "例\n",
    "~~~python\n",
    "num1 = 10\n",
    "num2 = 20\n",
    "\"\"\"\n",
    "num1とnum2の値を参照して、計算を行う。\n",
    "実際の計算式は「10 + 20」に置き換わって計算される。\n",
    "\"\"\"\n",
    "num3 = num1 + num2\n",
    "\"\"\"\n",
    "num3の値を参照する。\n",
    "実行すると、「計算結果は30です」と表示される。\n",
    "\"\"\"\n",
    "print('計算結果は',num3,'です。')\n",
    "~~~\n",
    "\n",
    "\n",
    "Pythonでの変数の付け方は、以下のようなルールを推奨しています。\n",
    "\n",
    "- 何を表す変数なのか一言で表されている。\n",
    "~~~python\n",
    "year = 2018\n",
    "~~~\n",
    "- なるべく英語で定義されている。\n",
    "~~~python\n",
    "month = 2018 #OK\n",
    "tuki = 2018 #NG\n",
    "~~~\n",
    "- 複数の単語を使う変数名の場合はアンダースコアで単語と単語を繋げる。\n",
    "~~~python\n",
    "# 生まれた年を定義する\n",
    "birthday_year = 1986\n",
    "~~~\n",
    "- 変数名は全て小文字で書く。\n",
    "~~~python\n",
    "birthday_month = 12 #OK\n",
    "BIRTHDAY_MONTH = 12 #「定数」として定義する場合は全て大文字とする。\n",
    "~~~\n",
    "**定数とは？**  \n",
    "Pythonでは定数はサポートされていませんが、定数として固定値を定義する場合は、大文字とアンダースコアのみで記述します。  \n",
    "\n",
    "\n",
    "\n",
    "- 先頭が数字から始まる変数名と数字のみの変数名は使用できない。\n",
    "~~~python\n",
    "1_num = 0 #NG\n",
    "1234 = 0 #NG\n",
    "~~~"
   ]
  },
  {
   "cell_type": "code",
   "execution_count": 8,
   "metadata": {},
   "outputs": [],
   "source": [
    "num = 0x10A #16進\n",
    "num = 100_000_000_000_000_000_000_000_000_000"
   ]
  },
  {
   "cell_type": "markdown",
   "metadata": {},
   "source": [
    "## 3-4 データ型"
   ]
  },
  {
   "cell_type": "markdown",
   "metadata": {},
   "source": [
    "Pythonのデータ型は大きく分けて数値型とコンテナに分ける事ができます。\n",
    "\n",
    "数値型  \n",
    "\n",
    "| データ型 | 意味 | 例 |\n",
    "|---|---|---|\n",
    "|int     |整数         |-2, 0, 10 |\n",
    "|float   |浮動小数点数 |-1.25, 0.0 |\n",
    "|complex |複素数型     |3+4j, 3.0+4.0j, 3J |\n",
    "\n",
    "コンテナ型\n",
    "\n",
    "| データ型 | 意味 | 例 |\n",
    "|---|---|---|\n",
    "|str     |文字列         |'apple','orange' |\n",
    "\n",
    "※文字列については後述します。\n",
    "\n",
    "#### <span style=\"color:red\">ポイント</span> \n",
    "Pythonでは変数を宣言する際に、<u>**データ型を指定する必要はありません。**</u>  \n",
    "変数の型は、自動で判定されます。\n",
    "Pythonは変数のデータ型を明示的に指定しない「動的型付言語」になります。"
   ]
  },
  {
   "cell_type": "markdown",
   "metadata": {},
   "source": [
    "## 3-5 リテラル"
   ]
  },
  {
   "cell_type": "markdown",
   "metadata": {},
   "source": [
    "**リテラルとは？**  \n",
    "プログラムのソースコードに、直接記述された値のこと。\n",
    "\n",
    "#### 文字列リテラル\n",
    "\n",
    "文字列リテラルは、対象となる文字列を'(シングルクォーテーション)または、\"(ダブルクォーテーション)で囲う。"
   ]
  },
  {
   "cell_type": "code",
   "execution_count": 7,
   "metadata": {},
   "outputs": [
    {
     "name": "stdout",
     "output_type": "stream",
     "text": [
      "ABC\n",
      "DEF\n"
     ]
    }
   ],
   "source": [
    "print ('ABC')\n",
    "print (\"DEF\")"
   ]
  },
  {
   "cell_type": "markdown",
   "metadata": {},
   "source": [
    "プログラム言語によっては、シングルクォーテーションで囲った場合とダブルクォーテーションで囲った場合は扱いが異なる時もあるが、  \n",
    "Pythonでは区別がない。"
   ]
  },
  {
   "cell_type": "markdown",
   "metadata": {},
   "source": [
    "#### 数値リテラル\n",
    "\n",
    "数値リテラルは、対象となる値をそのまま記述する。"
   ]
  },
  {
   "cell_type": "code",
   "execution_count": 8,
   "metadata": {},
   "outputs": [
    {
     "name": "stdout",
     "output_type": "stream",
     "text": [
      "10\n",
      "8\n",
      "26\n",
      "51\n",
      "10.4\n",
      "3500.0\n"
     ]
    }
   ],
   "source": [
    "print(10)       #10進数\n",
    "print(0o10)     # 8進数\n",
    "print(0x1A)     #16進数\n",
    "print(0b110011) #２進数\n",
    "print(10.4)     #浮動小数点\n",
    "print(3.5e3)    #指数表記"
   ]
  },
  {
   "cell_type": "markdown",
   "metadata": {},
   "source": [
    "## 3-6 文字列"
   ]
  },
  {
   "cell_type": "markdown",
   "metadata": {},
   "source": [
    "#### エスケープシーケンス  \n",
    "¥マーク、または\\\\ (バックスラッシュ)を用いて、改行などの特殊な文字列を記述する際に使用します。\n",
    "\n",
    "|エスケープシーケンス|意味|\n",
    "|---|---|\n",
    "|\\\\ |\\という文字そのもの|\n",
    "|\\\\' |シングルクオーテーション|\n",
    "|\\\\\" |ダブルクオーテーション|\n",
    "|\\\\n\t|改行|\n",
    "\n",
    "(一部抜粋)\n"
   ]
  },
  {
   "cell_type": "code",
   "execution_count": 10,
   "metadata": {},
   "outputs": [
    {
     "name": "stdout",
     "output_type": "stream",
     "text": [
      "\\\n",
      "今年の干支は'戌'です\n",
      "2020年は\"東京オリンピック\"が開催されます\n",
      "Hello\n",
      " Python\n"
     ]
    }
   ],
   "source": [
    "print('\\\\')\n",
    "print('今年の干支は\\'戌\\'です')\n",
    "print ('2020年は\\\"東京オリンピック\\\"が開催されます')\n",
    "print('Hello\\n Python')"
   ]
  },
  {
   "cell_type": "markdown",
   "metadata": {},
   "source": [
    "#### トリプルクォーテーション  \n",
    "シングルクォーテーションまたはダブルクォーテーション3つで囲むと、複数行の文字列を作成することができます。"
   ]
  },
  {
   "cell_type": "code",
   "execution_count": 11,
   "metadata": {},
   "outputs": [
    {
     "name": "stdout",
     "output_type": "stream",
     "text": [
      "こんにちは！\n",
      "今日はいいお天気ですね\n",
      "どちらへお出かけですか？\n",
      "こんにちは\n",
      "これから動物園に行きます\n",
      "それではまた\n"
     ]
    }
   ],
   "source": [
    "print (\"\"\"こんにちは！\n",
    "今日はいいお天気ですね\n",
    "どちらへお出かけですか？\"\"\")\n",
    "print ('''こんにちは\n",
    "これから動物園に行きます\n",
    "それではまた''')"
   ]
  },
  {
   "cell_type": "markdown",
   "metadata": {},
   "source": [
    "#### raw文字列  \n",
    "文字列の先頭に「r」または「R」をつけると、エスケープシーケンスが無効になります。  \n",
    "ファイルパスを表すような場合に使用します。"
   ]
  },
  {
   "cell_type": "code",
   "execution_count": 12,
   "metadata": {},
   "outputs": [
    {
     "name": "stdout",
     "output_type": "stream",
     "text": [
      "C:\\Users\\admin\\test.txt\n"
     ]
    }
   ],
   "source": [
    "print (r'C:\\Users\\admin\\test.txt')"
   ]
  },
  {
   "cell_type": "markdown",
   "metadata": {},
   "source": [
    "#### 文字列の連結  \n",
    "文字列の連結には、「+」を使用する方法があります。  \n",
    "また、「+=」を使用すると、特定の文字列に文字を追加することや、「*」を使用することで指定回数分文字列を繰り返すこともできます。"
   ]
  },
  {
   "cell_type": "code",
   "execution_count": 13,
   "metadata": {},
   "outputs": [
    {
     "name": "stdout",
     "output_type": "stream",
     "text": [
      "Python入門\n",
      "Python入門講座\n",
      "Python入門講座Python入門講座Python入門講座\n"
     ]
    }
   ],
   "source": [
    "str1 = 'Python'\n",
    "str2 = '入門'\n",
    "str3 = str1 + str2\n",
    "print(str3)\n",
    "str3 += '講座'\n",
    "print(str3)\n",
    "str4 = str3 * 3\n",
    "print(str4)"
   ]
  },
  {
   "cell_type": "markdown",
   "metadata": {},
   "source": [
    "#### 文字列の長さを取得する  \n",
    "文字列の長さを取得するには、「len」関数を使用します。"
   ]
  },
  {
   "cell_type": "code",
   "execution_count": 15,
   "metadata": {},
   "outputs": [
    {
     "name": "stdout",
     "output_type": "stream",
     "text": [
      "「Hello」の文字列の長さは 5 です\n",
      "「Python入門講座」の文字列の長さは 10 です\n"
     ]
    },
    {
     "data": {
      "text/plain": [
       "4"
      ]
     },
     "execution_count": 15,
     "metadata": {},
     "output_type": "execute_result"
    }
   ],
   "source": [
    "print('「Hello」の文字列の長さは', len('Hello'), 'です')\n",
    "print('「Python入門講座」の文字列の長さは', len('Python入門講座'), 'です')\n",
    "\n",
    "len('パイソン')"
   ]
  },
  {
   "cell_type": "markdown",
   "metadata": {},
   "source": [
    "#### 文字列への変換  \n",
    "Pythonは文字列と数値を連結する際に、自動変換を行わないため、自分で変換する必要があります。  \n",
    "文字列以外の数値などの値を文字列に変換するには、「str」関数を使用します。"
   ]
  },
  {
   "cell_type": "code",
   "execution_count": 19,
   "metadata": {},
   "outputs": [
    {
     "name": "stdout",
     "output_type": "stream",
     "text": [
      "お釣りは1000円です\n"
     ]
    },
    {
     "ename": "TypeError",
     "evalue": "unsupported operand type(s) for +: 'int' and 'str'",
     "output_type": "error",
     "traceback": [
      "\u001b[0;31m---------------------------------------------------------------------------\u001b[0m",
      "\u001b[0;31mTypeError\u001b[0m                                 Traceback (most recent call last)",
      "\u001b[0;32m<ipython-input-19-f839cba7118c>\u001b[0m in \u001b[0;36m<module>\u001b[0;34m\u001b[0m\n\u001b[1;32m      2\u001b[0m \u001b[0mprint\u001b[0m\u001b[0;34m(\u001b[0m\u001b[0;34m'お釣りは'\u001b[0m \u001b[0;34m+\u001b[0m \u001b[0mstr\u001b[0m\u001b[0;34m(\u001b[0m\u001b[0mnum1\u001b[0m\u001b[0;34m)\u001b[0m \u001b[0;34m+\u001b[0m \u001b[0;34m'円です'\u001b[0m\u001b[0;34m)\u001b[0m\u001b[0;34m\u001b[0m\u001b[0;34m\u001b[0m\u001b[0m\n\u001b[1;32m      3\u001b[0m \u001b[0;34m\u001b[0m\u001b[0m\n\u001b[0;32m----> 4\u001b[0;31m \u001b[0ma\u001b[0m \u001b[0;34m=\u001b[0m \u001b[0;36m10\u001b[0m \u001b[0;34m+\u001b[0m \u001b[0;34m'円です'\u001b[0m \u001b[0;31m# 数値と文字列を連結する際に変換していないため、エラーになります。\u001b[0m\u001b[0;34m\u001b[0m\u001b[0;34m\u001b[0m\u001b[0m\n\u001b[0m\u001b[1;32m      5\u001b[0m \u001b[0mprint\u001b[0m\u001b[0;34m(\u001b[0m\u001b[0ma\u001b[0m\u001b[0;34m)\u001b[0m\u001b[0;34m\u001b[0m\u001b[0;34m\u001b[0m\u001b[0m\n",
      "\u001b[0;31mTypeError\u001b[0m: unsupported operand type(s) for +: 'int' and 'str'"
     ]
    }
   ],
   "source": [
    "num1 = 1000\n",
    "print('お釣りは' + str(num1) + '円です')\n",
    "\n",
    "a = 10 + '円です' # 数値と文字列を連結する際に変換していないため、エラーになります。\n",
    "print(a)"
   ]
  },
  {
   "cell_type": "markdown",
   "metadata": {},
   "source": [
    "#### 文字列の置換\n",
    "文字列の置換を行いたい場合は、「replace」関数を使用します。"
   ]
  },
  {
   "cell_type": "code",
   "execution_count": 20,
   "metadata": {},
   "outputs": [
    {
     "name": "stdout",
     "output_type": "stream",
     "text": [
      "Python入門講座\n"
     ]
    }
   ],
   "source": [
    "str1 = 'Pthyon入門講座'\n",
    "print(str1.replace('Pthyon','Python'))"
   ]
  },
  {
   "cell_type": "markdown",
   "metadata": {},
   "source": [
    "#### 文字列の検索  \n",
    "\n",
    "文字列の検索を行いたい場合は、「find」関数を使用します。  \n",
    "「find」関数は検索する文字列の0から始まる開始位置を返却します。  \n",
    "該当する値が見つからなかった場合は-1を返却します。"
   ]
  },
  {
   "cell_type": "code",
   "execution_count": 21,
   "metadata": {},
   "outputs": [
    {
     "name": "stdout",
     "output_type": "stream",
     "text": [
      "6\n"
     ]
    }
   ],
   "source": [
    "str1 = 'Hello,Python'\n",
    "index = str1.find('P');\n",
    "print(index);"
   ]
  },
  {
   "cell_type": "markdown",
   "metadata": {},
   "source": [
    "対象の検索文字が存在するかどうか検索するには、「in」キーワードを指定します。  \n",
    "該当する値が見つかった場合はTrueを、見つからなかった場合はFalseを返却します。"
   ]
  },
  {
   "cell_type": "code",
   "execution_count": 22,
   "metadata": {},
   "outputs": [
    {
     "name": "stdout",
     "output_type": "stream",
     "text": [
      "True\n",
      "False\n"
     ]
    }
   ],
   "source": [
    "str1 = 'Hello,Python'\n",
    "print('Hello' in str1)\n",
    "print('a' in str1)"
   ]
  },
  {
   "cell_type": "markdown",
   "metadata": {},
   "source": [
    "#### 部分文字列の取り出し  \n",
    "部分的に文字列を取り出したい場合は、スライスという機能を使用して、指定した範囲から新しい文字列を作成します。"
   ]
  },
  {
   "cell_type": "code",
   "execution_count": 25,
   "metadata": {},
   "outputs": [
    {
     "name": "stdout",
     "output_type": "stream",
     "text": [
      "Hello\n"
     ]
    }
   ],
   "source": [
    "str1 = 'Hello,Python'\n",
    "print(str1[:5]) #　文字列[開始位置(0から始まる):終了位置-1]の形式で指定します。"
   ]
  }
 ],
 "metadata": {
  "kernelspec": {
   "display_name": "Python 3",
   "language": "python",
   "name": "python3"
  },
  "language_info": {
   "codemirror_mode": {
    "name": "ipython",
    "version": 3
   },
   "file_extension": ".py",
   "mimetype": "text/x-python",
   "name": "python",
   "nbconvert_exporter": "python",
   "pygments_lexer": "ipython3",
   "version": "3.7.6"
  },
  "latex_envs": {
   "LaTeX_envs_menu_present": true,
   "bibliofile": "biblio.bib",
   "cite_by": "apalike",
   "current_citInitial": 1,
   "eqLabelWithNumbers": true,
   "eqNumInitial": 1,
   "labels_anchors": false,
   "latex_user_defs": false,
   "report_style_numbering": false,
   "user_envs_cfg": false
  },
  "toc": {
   "colors": {
    "hover_highlight": "#DAA520",
    "running_highlight": "#FF0000",
    "selected_highlight": "#FFD700"
   },
   "moveMenuLeft": true,
   "nav_menu": {
    "height": "290px",
    "width": "251px"
   },
   "navigate_menu": true,
   "number_sections": true,
   "sideBar": true,
   "threshold": 4,
   "toc_cell": false,
   "toc_section_display": "block",
   "toc_window_display": false
  }
 },
 "nbformat": 4,
 "nbformat_minor": 4
}
