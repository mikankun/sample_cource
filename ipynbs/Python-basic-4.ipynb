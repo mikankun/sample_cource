{
 "cells": [
  {
   "cell_type": "markdown",
   "metadata": {},
   "source": [
    "## 4.1 比較演算子、論理演算子"
   ]
  },
  {
   "cell_type": "markdown",
   "metadata": {
    "slideshow": {
     "slide_type": "slide"
    }
   },
   "source": [
    "#### 比較演算子  \n",
    "\n",
    "条件式などで、値を比較するために使用する記号のことを「比較演算子」といいます。\n",
    "\n",
    "\n",
    "|演算子|記述例|意味|\n",
    "|---|---|---|\n",
    "|==|a==b|aとbは等しい|\n",
    "|!=|a!=b|aとbは等しくない|\n",
    "|>|a>b|aはbより大きい|\n",
    "|<|a<b|aはbより小さい|\n",
    "|>=|a>=b|aはb以上|\n",
    "|<=|a<=b|aはb以下|\n"
   ]
  },
  {
   "cell_type": "markdown",
   "metadata": {
    "slideshow": {
     "slide_type": "slide"
    }
   },
   "source": [
    "#### 論理演算子  \n",
    "\n",
    "複数の条件に当てはまるような条件式を記述したい場合は、「論理演算子」を使用します。\n",
    "\n",
    "|演算子|記述例|意味|\n",
    "|---|---|---|\n",
    "|and|条件1 and 条件2|条件1と条件2の両方に当てはまる|\n",
    "|or|条件1 or 条件2|条件1か条件2のどちらかに当てはまる|\n",
    "|not|not 条件1|条件1が当てはまらない時に処理を実行|\n",
    "\n",
    "~~~\n",
    "if [条件1] and [条件2]:\n",
    "    [条件1と条件2の両方の条件を満たす時に実行する処理\n",
    "\n",
    "if [条件1] or [条件2]:\n",
    "    #条件1と条件2のどちらかの条件を満たす時に実行する処理\n",
    "    \n",
    "if not [条件1]\n",
    "    #条件1が当てはまらない時に実行する処理\n",
    "~~~\n"
   ]
  },
  {
   "cell_type": "markdown",
   "metadata": {
    "slideshow": {
     "slide_type": "slide"
    }
   },
   "source": [
    "## 4.2 if文"
   ]
  },
  {
   "cell_type": "markdown",
   "metadata": {
    "slideshow": {
     "slide_type": "slide"
    }
   },
   "source": [
    "if文は、ある条件で処理を分岐させたい場合に使用します。  \n",
    "if分の構文は以下の通りです。\n",
    "\n",
    "~~~\n",
    "\n",
    "if [条件式]:\n",
    "    [実行する処理1]\n",
    "elif [条件式]:\n",
    "    [実行する処理2]\n",
    "else:\n",
    "    [全ての条件に当てはまらない処理]\n",
    "~~~\n",
    "\n",
    "#### <span style=\"color:red\">ポイント</span> \n",
    "- ifと条件式の間には半角スペースが必要です。\n",
    "- 条件式の後にはコロンが必要です。\n",
    "- 実行する処理を記述する行は、必ずインデントします。"
   ]
  },
  {
   "cell_type": "code",
   "execution_count": 8,
   "metadata": {},
   "outputs": [
    {
     "name": "stdout",
     "output_type": "stream",
     "text": [
      "num1は10より大きい数字です\n",
      "ifブロック\n"
     ]
    }
   ],
   "source": [
    "num1 = 20\n",
    "if num1 > 10:\n",
    "    print('num1は10より大きい数字です')\n",
    "    print('ifブロック')\n",
    "else:\n",
    "    print('次のブロック')"
   ]
  },
  {
   "cell_type": "markdown",
   "metadata": {},
   "source": [
    "#### 複数の条件で分岐させたい場合\n",
    "\n",
    "複数の条件で分岐をさせたい場合は、elifやelseを使用します。  \n",
    "elifは別の条件の処理を定義したい場合に使用し、elseは全ての条件に当てはまらない場合の処理を定義したい場合に使用します。\n",
    "~~~\n",
    "if [条件式]:\n",
    "    [実行する処理1]\n",
    "elif [条件式]:\n",
    "    [実行する処理2]\n",
    "else:\n",
    "    [全ての条件に当てはまらない処理]\n",
    "~~~"
   ]
  },
  {
   "cell_type": "code",
   "execution_count": 9,
   "metadata": {},
   "outputs": [
    {
     "ename": "SyntaxError",
     "evalue": "invalid syntax (<ipython-input-9-919939f9b517>, line 6)",
     "output_type": "error",
     "traceback": [
      "\u001b[0;36m  File \u001b[0;32m\"<ipython-input-9-919939f9b517>\"\u001b[0;36m, line \u001b[0;32m6\u001b[0m\n\u001b[0;31m    elif num == 2;\u001b[0m\n\u001b[0m                 ^\u001b[0m\n\u001b[0;31mSyntaxError\u001b[0m\u001b[0;31m:\u001b[0m invalid syntax\n"
     ]
    }
   ],
   "source": [
    "num1 = 1\n",
    "if num1 == 0:\n",
    "    print('num1は0です')\n",
    "elif num1 == 1:\n",
    "    print('num1は1です')\n",
    "elif num == 2;\n",
    "    print('numは2です')\n",
    "else:\n",
    "    print('num1は0でも１でもありません。')"
   ]
  },
  {
   "cell_type": "code",
   "execution_count": 3,
   "metadata": {},
   "outputs": [
    {
     "name": "stdout",
     "output_type": "stream",
     "text": [
      "num1は0でも１でもありません。\n"
     ]
    }
   ],
   "source": [
    "num1 = 2\n",
    "if num1 == 0:\n",
    "    print('num1は0です')\n",
    "elif num1 == 1:\n",
    "    print('num1は1です')\n",
    "else:\n",
    "    print('num1は0でも１でもありません。')"
   ]
  },
  {
   "cell_type": "code",
   "execution_count": 15,
   "metadata": {},
   "outputs": [],
   "source": [
    "num = 10\n",
    "if num > 10:\n",
    "    #コメント\n",
    "    print('A')\n",
    "    pass #何もしない。インデント調整用\n",
    "else:\n",
    "    '''\n",
    "    コメント\n",
    "    '''"
   ]
  },
  {
   "cell_type": "code",
   "execution_count": null,
   "metadata": {},
   "outputs": [],
   "source": []
  },
  {
   "cell_type": "code",
   "execution_count": 4,
   "metadata": {},
   "outputs": [
    {
     "name": "stdout",
     "output_type": "stream",
     "text": [
      "city1の値は横浜です。\n",
      "city2の値は鎌倉ではありません。\n",
      "num1はnum2より大きい値です。\n",
      "num3はnum4より小さい値です。\n",
      "num5はnum6以上の値です。\n",
      "num7はnum8以下の値です。\n"
     ]
    }
   ],
   "source": [
    "#論理演算子のサンプル\n",
    "city1 = '横浜'\n",
    "if city1 == '川崎':\n",
    "    print('city1の値は川崎です。') # city1の値は横浜なので、この処理は実行されません。\n",
    "else:\n",
    "    print('city1の値は横浜です。')\n",
    "\n",
    "city2 = '藤沢'\n",
    "if city2 != '鎌倉':\n",
    "    print('city2の値は鎌倉ではありません。')\n",
    "\n",
    "num1 = 20\n",
    "num2 = 10\n",
    "if num1 > num2:\n",
    "    print('num1はnum2より大きい値です。')\n",
    "\n",
    "num3 = 4\n",
    "num4 = 5\n",
    "if num3 < num4:\n",
    "    print('num3はnum4より小さい値です。')\n",
    "\n",
    "num5 = 101\n",
    "num6 = 100\n",
    "if num5 >= num6:\n",
    "    print('num5はnum6以上の値です。')\n",
    "\n",
    "num7 = 199\n",
    "num8 = 200\n",
    "if num7 <= num8:\n",
    "    print('num7はnum8以下の値です。')"
   ]
  },
  {
   "cell_type": "code",
   "execution_count": 5,
   "metadata": {},
   "outputs": [
    {
     "name": "stdout",
     "output_type": "stream",
     "text": [
      "1番目の条件式に一致しました。\n"
     ]
    }
   ],
   "source": [
    "# 論理演算子のサンプル1(and)\n",
    "value1 = 'Python'\n",
    "value2 = '入門'\n",
    "if value1 == 'Python' and value2 == '入門':\n",
    "    print('1番目の条件式に一致しました。')\n",
    "elif value1 == 'PYTHON' or value2 == '入門':\n",
    "    print('2番目の条件式に一致しました。')"
   ]
  },
  {
   "cell_type": "code",
   "execution_count": 6,
   "metadata": {},
   "outputs": [
    {
     "name": "stdout",
     "output_type": "stream",
     "text": [
      "2番目の条件式に一致しました。\n"
     ]
    }
   ],
   "source": [
    "# 論理演算子のサンプル2(or)\n",
    "value3 = 'Python'\n",
    "value4 = '入門'\n",
    "if value3 == 'Python' and value4 == '講座':\n",
    "    print('1番目の条件式に一致しました。')\n",
    "elif value3 == 'PYTHON' or value4 == '入門':\n",
    "    print('2番目の条件式に一致しました。')"
   ]
  },
  {
   "cell_type": "code",
   "execution_count": 7,
   "metadata": {},
   "outputs": [
    {
     "name": "stdout",
     "output_type": "stream",
     "text": [
      "条件式に一致しました。\n"
     ]
    }
   ],
   "source": [
    "# 論理演算子のサンプル3(not)\n",
    "value5 = 'Python'\n",
    "value6 = '入門'\n",
    "if not value5 == 'PYTHON':\n",
    "    print('条件式に一致しました。')\n",
    "else:\n",
    "    print('条件に一致しませんでした。')"
   ]
  },
  {
   "cell_type": "code",
   "execution_count": 16,
   "metadata": {},
   "outputs": [
    {
     "name": "stdout",
     "output_type": "stream",
     "text": [
      "OK\n"
     ]
    }
   ],
   "source": [
    "#論理演算子のサンプル4\n",
    "num = 10\n",
    "#if 0 <= num and num <= 100:\n",
    "if 0 <= num <= 100:\n",
    "\n",
    "    \n",
    "  print('OK')\n",
    "else:\n",
    "  print('NG')"
   ]
  },
  {
   "cell_type": "code",
   "execution_count": 19,
   "metadata": {},
   "outputs": [
    {
     "name": "stdout",
     "output_type": "stream",
     "text": [
      "空\n",
      "空\n"
     ]
    }
   ],
   "source": [
    "s = ''\n",
    "#1文字列が空？\n",
    "if s == '':\n",
    "    print('空')\n",
    "    \n",
    "if not s:\n",
    "    print('空')\n",
    "    \n",
    "if 変数\n",
    "変数に有効な値か？（データがあるか？）"
   ]
  },
  {
   "cell_type": "code",
   "execution_count": 22,
   "metadata": {},
   "outputs": [
    {
     "name": "stdout",
     "output_type": "stream",
     "text": [
      "NG\n"
     ]
    }
   ],
   "source": [
    "x = 0\n",
    "if x :\n",
    "    print('OK')\n",
    "else:\n",
    "    print('NG')"
   ]
  },
  {
   "cell_type": "code",
   "execution_count": null,
   "metadata": {},
   "outputs": [],
   "source": []
  },
  {
   "cell_type": "markdown",
   "metadata": {},
   "source": [
    "上記のif文は、下記のようにandを省略して、数式のように記載することも可能です。  \n",
    "他の言語にはあまり見られない特徴です。\n",
    "\n",
    "~~~python\n",
    "if 0 <= num <= 100 :\n",
    "~~~"
   ]
  },
  {
   "cell_type": "markdown",
   "metadata": {},
   "source": [
    "## 4.3 pass文"
   ]
  },
  {
   "cell_type": "markdown",
   "metadata": {},
   "source": [
    "Pythonには、「何もしない」ということを表す「pass」文というものがあります。  \n",
    "例えば、条件分岐の際のelse節などで使用します。"
   ]
  },
  {
   "cell_type": "code",
   "execution_count": 9,
   "metadata": {},
   "outputs": [],
   "source": [
    "num1 = 1\n",
    "if num1 == 0:\n",
    "    print('num1は0です')\n",
    "else:\n",
    "    pass # num1は0ではないので、この行の処理が実行されますが、pass文が記述されているため、実行しても何も表示されません。"
   ]
  },
  {
   "cell_type": "markdown",
   "metadata": {},
   "source": [
    "#### <span style=\"color:red\">ポイント</span> \n",
    "#### なぜpass文が必要？\n",
    "Pythonは、インデントのブロック構造のため、文法上、インデントの後に何も処理が記述されていないとエラーになってしまいます。  \n",
    "そのため、何も処理をしない場合は、「何もしない」という処理を示すpass文を記述する必要があります。"
   ]
  },
  {
   "cell_type": "markdown",
   "metadata": {},
   "source": [
    "## 4.4 while文"
   ]
  },
  {
   "cell_type": "markdown",
   "metadata": {},
   "source": [
    "ある条件を満たしている間、繰り返し処理を実行したい場合は「while」文を使用します。  \n",
    "式の書き方はif文と変わりません。\n",
    "~~~\n",
    "while [条件式]:\n",
    "    [条件式を満たす場合に実行する処理]\n",
    "~~~\n",
    "\n",
    "#### <span style=\"color:red\">ポイント</span> \n",
    "- whileと条件式の間には半角スペースが必要です。\n",
    "- 条件式の後にはコロンが必要です。\n",
    "- 条件式を満たす場合に実行する処理を記述する行は、必ずインデントします。"
   ]
  },
  {
   "cell_type": "code",
   "execution_count": 24,
   "metadata": {},
   "outputs": [
    {
     "name": "stdout",
     "output_type": "stream",
     "text": [
      "0 回目の処理です。 A B C\n",
      "Hello Python!\n",
      "1 回目の処理です。 A B C\n",
      "Hello Python!\n",
      "2 回目の処理です。 A B C\n",
      "Hello Python!\n",
      "3 回目の処理です。 A B C\n",
      "Hello Python!\n",
      "4 回目の処理です。 A B C\n",
      "Hello Python!\n",
      "while文の終了\n"
     ]
    }
   ],
   "source": [
    "num1 = 0\n",
    "while num1<5:\n",
    "    print(num1,'回目の処理です。'')\n",
    "    print(\"Hello Python!\")\n",
    "    num1 = num1 +1\n",
    "print('while文の終了')"
   ]
  },
  {
   "cell_type": "markdown",
   "metadata": {},
   "source": [
    "#### <span style=\"color:red\">ポイント</span> \n",
    "#### 無限ループに注意しましょう！  \n",
    "while文は条件を満たしている場合、処理が繰り返されます。  \n",
    "つまり、<u>** 条件が変化しない限り無限に処理が繰り返されることになります。 **</u>  \n",
    "このような処理を「<u>** 無限ループ **</u>」といいます。  \n",
    "無限ループは処理が終了しないため、強制的に処理を中断しなければなりません。  \n",
    "このような事態を避けるためには、条件式を変化させる処理をブロック内に記述する必要があります。  \n",
    "先ほどの例ではnum1の値に1を加算させる処理を条件を変化させる処理として記述しています。\n",
    "\n",
    "~~~python\n",
    "num1 = 0\n",
    "while num1<5:\n",
    "    print(num1,'回目の処理です。')\n",
    "    print(\"Hello Python!\")\n",
    "    num1 = num1 +1 #条件を変化させる処理\n",
    "print('while文の終了')\n",
    "~~~\n",
    "\n",
    "条件を変化させる処理を記述することで、5回目の処理の際にはwhile文の条件を満たさなくなるため、while文の処理は実行されなくなります。"
   ]
  },
  {
   "cell_type": "markdown",
   "metadata": {},
   "source": [
    "## 4.5 for文"
   ]
  },
  {
   "cell_type": "markdown",
   "metadata": {},
   "source": [
    "繰り返し処理を実行したい場合は、「for」文を使用します。\n",
    "\n",
    "~~~\n",
    "for [変数] in [繰り返すデータ]:\n",
    "    [実行する処理]\n",
    "~~~\n",
    "\n",
    "for文は、「繰り返すデータ」からデータを1つずつ取り出し、取り出したデータは「変数」に格納され、「繰り返すデータ」の数だけ処理を行います。  \n",
    "\n",
    "#### <span style=\"color:red\">ポイント</span> \n",
    "- forと変数の間には半角スペースが必要です。\n",
    "- 変数の後にはinが必要です。\n",
    "- 繰り返すデータの後にはコロンが必要です。\n",
    "- 実行する処理を記述する行は、必ずインデントします。"
   ]
  },
  {
   "cell_type": "code",
   "execution_count": 2,
   "metadata": {},
   "outputs": [
    {
     "name": "stdout",
     "output_type": "stream",
     "text": [
      "P\n",
      "y\n",
      "t\n",
      "h\n",
      "o\n",
      "n\n",
      "for文の終了\n"
     ]
    }
   ],
   "source": [
    "# 'Python'という文字列から1文字ずつ取り出して変数「str1」に格納して表示する。\n",
    "for str1 in 'Python':\n",
    "  print(str1)\n",
    "print('for文の終了')"
   ]
  },
  {
   "cell_type": "markdown",
   "metadata": {},
   "source": [
    "#### range関数の使用  \n",
    "for文で一定の回数の繰り返し処理を記述したい場合は、range関数を使用すると簡潔に記述することができます。  \n",
    "\n",
    "~~~\n",
    "for 変数名 in range(開始の数値,終了の数値,増加させる数値):\n",
    "    #処理\n",
    "~~~\n",
    "\n",
    "<u>**開始の数値と、増加させる数値は省略可能です。**</u>  \n",
    "引数を一つだけ指定した場合は、終了の数値が指定されたことになり、0から終了の数理-1まで繰り返し処理が実行されます。"
   ]
  },
  {
   "cell_type": "code",
   "execution_count": 28,
   "metadata": {},
   "outputs": [
    {
     "name": "stdout",
     "output_type": "stream",
     "text": [
      "10\n",
      "9\n",
      "8\n",
      "7\n",
      "6\n",
      "5\n",
      "4\n",
      "3\n",
      "2\n",
      "1\n"
     ]
    }
   ],
   "source": [
    "for i in range(10,0,-1):\n",
    "  print(i)"
   ]
  },
  {
   "cell_type": "markdown",
   "metadata": {},
   "source": [
    "## 4.6 breakとcontinue"
   ]
  },
  {
   "cell_type": "markdown",
   "metadata": {},
   "source": [
    "#### break\n",
    "breakを使用すると、以降の処理を行わず、for文やwhile文の処理を終了させます。"
   ]
  },
  {
   "cell_type": "code",
   "execution_count": 11,
   "metadata": {},
   "outputs": [
    {
     "name": "stdout",
     "output_type": "stream",
     "text": [
      "for文の開始\n",
      "P\n",
      "y\n",
      "for文の終了\n",
      "\n",
      "\n",
      "while文の開始\n",
      "0 回目の処理です。\n",
      "Hello Python!\n",
      "1 回目の処理です。\n",
      "Hello Python!\n",
      "while文の終了\n"
     ]
    }
   ],
   "source": [
    "print('for文の開始')\n",
    "for str1 in 'Python':\n",
    "  if str1 == 't': # str1の値が「t」の場合、以降の処理は行わず、for文の処理を終了します。\n",
    "    break\n",
    "  print(str1)\n",
    "print('for文の終了')\n",
    "print('\\n')\n",
    "num1 = 0\n",
    "print('while文の開始')\n",
    "while num1<5:\n",
    "    if num1 == 2: # num1の値が2の場合、以降の処理は行わず、while文の処理を終了します。\n",
    "        num1 = num1 +1\n",
    "        break\n",
    "    print(num1,'回目の処理です。')\n",
    "    print(\"Hello Python!\")\n",
    "    num1 = num1 +1\n",
    "print('while文の終了')"
   ]
  },
  {
   "cell_type": "code",
   "execution_count": 33,
   "metadata": {},
   "outputs": [
    {
     "name": "stdout",
     "output_type": "stream",
     "text": [
      "for文の開始\n",
      "P\n",
      "y\n",
      "t\n",
      "h\n",
      "o\n",
      "n\n",
      "AAAAA\n",
      "for文の終了\n"
     ]
    }
   ],
   "source": [
    "print('for文の開始')\n",
    "for str1 in 'Python':\n",
    "  if str1 == 'a': # str1の値が「t」の場合、以降の処理は行わず、for文の処理を終了します。\n",
    "    break\n",
    "  print(str1)\n",
    "else:\n",
    "    #ループ正常終了後の処理\n",
    "    print('AAAAA')\n",
    "print('for文の終了')"
   ]
  },
  {
   "cell_type": "markdown",
   "metadata": {},
   "source": [
    "#### continue  \n",
    "continueを使用すると、以降の処理をスキップし、for文やwhile文の先頭に処理を戻します。"
   ]
  },
  {
   "cell_type": "code",
   "execution_count": 12,
   "metadata": {
    "scrolled": true
   },
   "outputs": [
    {
     "name": "stdout",
     "output_type": "stream",
     "text": [
      "for文の開始\n",
      "P\n",
      "y\n",
      "h\n",
      "o\n",
      "n\n",
      "for文の終了\n",
      "\n",
      "\n",
      "while文の開始\n",
      "0 回目の処理です。\n",
      "Hello Python!\n",
      "1 回目の処理です。\n",
      "Hello Python!\n",
      "3 回目の処理です。\n",
      "Hello Python!\n",
      "4 回目の処理です。\n",
      "Hello Python!\n",
      "while文の終了\n"
     ]
    }
   ],
   "source": [
    "print('for文の開始')\n",
    "for str1 in 'Python':\n",
    "  if str1 == 't': # str1の値が「t」の場合、以降の処理をスキップするため、「t」は出力されません。\n",
    "    continue\n",
    "  print(str1)\n",
    "print('for文の終了')\n",
    "print('\\n')\n",
    "\n",
    "num1 = 0\n",
    "\n",
    "print('while文の開始')\n",
    "\n",
    "while num1<5:\n",
    "    if num1 == 2: # num1の値が2の場合、以降の処理をスキップするため、「2 回目の処理です。」と「Hello Python!」は出力されません。\n",
    "        num1 = num1 +1\n",
    "        continue\n",
    "    print(num1,'回目の処理です。')\n",
    "    print(\"Hello Python!\")\n",
    "    num1 = num1 +1\n",
    "print('while文の終了')"
   ]
  },
  {
   "cell_type": "markdown",
   "metadata": {},
   "source": [
    "## 4.7 演習問題(別紙)"
   ]
  }
 ],
 "metadata": {
  "celltoolbar": "Attachments",
  "kernelspec": {
   "display_name": "Python 3",
   "language": "python",
   "name": "python3"
  },
  "language_info": {
   "codemirror_mode": {
    "name": "ipython",
    "version": 3
   },
   "file_extension": ".py",
   "mimetype": "text/x-python",
   "name": "python",
   "nbconvert_exporter": "python",
   "pygments_lexer": "ipython3",
   "version": "3.7.6"
  },
  "latex_envs": {
   "LaTeX_envs_menu_present": true,
   "bibliofile": "biblio.bib",
   "cite_by": "apalike",
   "current_citInitial": 1,
   "eqLabelWithNumbers": true,
   "eqNumInitial": 1,
   "labels_anchors": false,
   "latex_user_defs": false,
   "report_style_numbering": false,
   "user_envs_cfg": false
  },
  "toc": {
   "colors": {
    "hover_highlight": "#DAA520",
    "running_highlight": "#FF0000",
    "selected_highlight": "#FFD700"
   },
   "moveMenuLeft": true,
   "nav_menu": {
    "height": "271px",
    "width": "251px"
   },
   "navigate_menu": true,
   "number_sections": true,
   "sideBar": true,
   "threshold": 4,
   "toc_cell": false,
   "toc_section_display": "block",
   "toc_window_display": false
  }
 },
 "nbformat": 4,
 "nbformat_minor": 2
}
