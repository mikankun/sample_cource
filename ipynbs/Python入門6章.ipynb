{
 "cells": [
  {
   "cell_type": "markdown",
   "metadata": {},
   "source": [
    "## 6.1 関数の作成"
   ]
  },
  {
   "cell_type": "markdown",
   "metadata": {},
   "source": [
    "関数とは、<u> **プログラムの複数の処理を一つにまとめたもの** </u>のことです。  \n",
    "関数を使用すると、プログラムを機能ごとに分割し、全体の動作を明確にすることができます。  \n",
    "\n",
    "#### 関数の定義の仕方  \n",
    "関数は、def文を使用して以下のように定義します。\n",
    "\n",
    "~~~\n",
    "def 関数名(引数1,引数2):\n",
    "    処理１\n",
    "    ・\n",
    "    ・\n",
    "    return 戻り値\n",
    "~~~\n",
    "\n",
    "**引数**  \n",
    "引数とは、<u>**関数の処理の中で使用できるよう渡す値** </u>のことです。  \n",
    "省略も可能です。\n",
    "\n",
    "**戻り値**  \n",
    "戻り値とは、<u>**関数を処理した結果として返す値** </u>のことです。  \n",
    "引数同様、省略も可能です。 "
   ]
  },
  {
   "cell_type": "markdown",
   "metadata": {},
   "source": [
    "#### 関数の呼び出し  \n",
    "定義した関数をプログラム内で使用することを、「関数を呼び出す」と言います。  \n",
    "同じような処理をプログラム内で複数実行したい場合は、まず関数を定義し、その関数を呼び出すことで簡潔なプログラムを作成することができます。\n",
    "\n",
    "~~~\n",
    "変数名(省略可能) = 関数名(引数1,引数2・・・)\n",
    "~~~\n",
    "\n",
    "引数を持たない関数を呼び出す場合は、引数は省略可能です。  \n",
    "関数が戻り値を返す場合は、変数を使用して、関数の戻り値を受け取ることができます。  \n",
    "**※このことを、「戻る」や「返す」と言います。**  \n",
    "関数が戻り値を返さない場合は、変数名は省略可能です。"
   ]
  },
  {
   "cell_type": "code",
   "execution_count": 1,
   "metadata": {},
   "outputs": [
    {
     "name": "stdout",
     "output_type": "stream",
     "text": [
      "Hello,Python!\n"
     ]
    }
   ],
   "source": [
    "# hello関数の定義\n",
    "def hello():\n",
    "    print('Hello,Python!')\n",
    "\n",
    "# hello関数の呼び出し\n",
    "hello()"
   ]
  },
  {
   "cell_type": "markdown",
   "metadata": {},
   "source": [
    "#### 様々な関数の定義と呼び出し方  \n",
    "関数は、大きく分けて次の四種類に分けられます。  \n",
    "\n",
    "- 引数のあるもの\n",
    "- 引数のないもの\n",
    "- 戻り値のあるもの\n",
    "- 戻り値のないもの\n",
    "\n",
    "それぞれ、関数の定義の仕方、関数の呼び出し方が変わってきます。  "
   ]
  },
  {
   "cell_type": "code",
   "execution_count": 2,
   "metadata": {},
   "outputs": [
    {
     "name": "stdout",
     "output_type": "stream",
     "text": [
      "Hello,Python!\n",
      "Hello,Python入門!\n",
      "21\n",
      "80\n"
     ]
    }
   ],
   "source": [
    "# 引数のない関数の定義\n",
    "def hello():\n",
    "    print('Hello,Python!')\n",
    "\n",
    "# 引数のない関数の呼び出し\n",
    "hello()\n",
    "\n",
    "# 引数のある関数の定義\n",
    "def hello(msg): # 引数「msg」を受け取ります。\n",
    "    print('Hello,' + msg + '!') # 受け取ったmsgを表示します。\n",
    "\n",
    "# 引数のある関数の呼び出し\n",
    "hello('Python入門')\n",
    "\n",
    "# 戻り値のある関数の定義\n",
    "def addNum(num1,num2):\n",
    "    num3 = num1 + num2\n",
    "    return num3\n",
    "\n",
    "# 戻り値のある関数の呼び出し\n",
    "print(addNum(1,20))\n",
    "\n",
    "# 戻り値のない関数の定義\n",
    "def addNumPrint(num1,num2):\n",
    "    print(num1 * num2)\n",
    "\n",
    "# 戻り値のない関数の呼び出し\n",
    "addNumPrint(2,40);"
   ]
  },
  {
   "cell_type": "markdown",
   "metadata": {},
   "source": [
    "## 6.2 可変長引数"
   ]
  },
  {
   "cell_type": "code",
   "execution_count": 2,
   "metadata": {},
   "outputs": [
    {
     "name": "stdout",
     "output_type": "stream",
     "text": [
      "1 2 3 4 5 5 6 7\n"
     ]
    }
   ],
   "source": [
    "print(1,2,3,4,5,5,6,7)"
   ]
  },
  {
   "cell_type": "markdown",
   "metadata": {},
   "source": [
    "可変長引数とは、任意の数の引数のことを指します。  \n",
    "関数での可変長引数の指定の仕方は、以下の二種類があります。  \n",
    "\n",
    "1. 「＊args」を使用する。  \n",
    "「＊」を頭につけた引数を使用すると、関数を呼び出す際の引数が全て「args」に集約され、「タプル型」として扱われます。\n",
    "~~~\n",
    "def 関数名(*args):\n",
    "    処理\n",
    "    ・\n",
    "    ・\n",
    "    ・\n",
    "~~~\n",
    "\n",
    "2. 「＊＊kargs」を使用する。  \n",
    "「＊＊」を頭につけた引数を使用すると、関数を呼び出す際の引数が全て「kargs」に集約され、「辞書型」として扱われます。\n",
    "\n",
    "~~~\n",
    "def 関数名(**kargs):\n",
    "    処理\n",
    "    ・\n",
    "    ・\n",
    "    ・\n",
    "~~~\n",
    "\n",
    "「＊」または「＊＊」の後は、任意の名前がつけられますが、慣習的に「args」、「kargs」を用いることが多いです。"
   ]
  },
  {
   "cell_type": "code",
   "execution_count": 5,
   "metadata": {},
   "outputs": [
    {
     "name": "stdout",
     "output_type": "stream",
     "text": [
      "3\n"
     ]
    }
   ],
   "source": [
    "def func(x,y):\n",
    "    return x + y\n",
    "\n",
    "x = func\n",
    "print(x(1,2))"
   ]
  },
  {
   "cell_type": "code",
   "execution_count": 3,
   "metadata": {},
   "outputs": [
    {
     "name": "stdout",
     "output_type": "stream",
     "text": [
      "(1, 2, 3, 4, 5, 6, 7, 8)\n",
      "36\n",
      "{'Python': 1, 'Java': 2, 'Ruby': 3}\n",
      "('Python', 1)\n",
      "('Java', 2)\n",
      "('Ruby', 3)\n"
     ]
    }
   ],
   "source": [
    "# 可変長引数(タプル型)\n",
    "def addNum(*args):\n",
    "    print(args)\n",
    "    sum = 0\n",
    "    for num in args:\n",
    "        sum = sum + num\n",
    "    return sum\n",
    "\n",
    "print(addNum(1,2,3,4,5,6,7,8))\n",
    "\n",
    "# 可変長引数(辞書型)\n",
    "def addNum2(**kargs):\n",
    "    print(kargs)\n",
    "    for val in kargs.items():\n",
    "        print(val)\n",
    "\n",
    "addNum2(Python=1,Java=2,Ruby=3) #キーワード引数"
   ]
  },
  {
   "cell_type": "markdown",
   "metadata": {},
   "source": [
    "## 6.3 デコレータ"
   ]
  },
  {
   "cell_type": "markdown",
   "metadata": {},
   "source": [
    "関数を修飾して新たな関数を作成することを<u>**デコレータ**</u>と言います。  \n",
    "既存の変数を変更することなく、処理の追加や変更を行うことができます。  \n",
    "処理の追加や変更を行いたい関数の前に、「@デコレータ名」をつけることによって使用できます。\n",
    "\n",
    "~~~\n",
    "@デコレータ名\n",
    "def 変数名():\n",
    "    処理\n",
    "    ・\n",
    "    ・\n",
    "    ・\n",
    "~~~\n",
    "\n",
    "デコレータは、引数として処理を追加したい関数を引数として渡す必要があります。  \n",
    "そして、戻り値として処理を追加した関数を返す必要があります。"
   ]
  },
  {
   "cell_type": "code",
   "execution_count": 9,
   "metadata": {},
   "outputs": [
    {
     "name": "stdout",
     "output_type": "stream",
     "text": [
      "start\n",
      "メイン処理の実行 10\n",
      "end\n"
     ]
    }
   ],
   "source": [
    "# デコレータ関数の定義\n",
    "def decolater_func(arg_func): # 引数には、処理を追加したい関数が格納されている。\n",
    "    def add_func(*args):\n",
    "        print('start')\n",
    "        arg_func(*args) # 引数として渡された関数を実行\n",
    "        print(\"end\") # 追加の処理を実行\n",
    "    return add_func # 戻り値として、main_funcの機能にadd_funcの機能を追加した関数を返す。\n",
    "\n",
    "@decolater_func\n",
    "# デコレートする関数\n",
    "def main_func(x):\n",
    "    print(\"メイン処理の実行\",x)\n",
    "\n",
    "main_func(10)"
   ]
  },
  {
   "cell_type": "markdown",
   "metadata": {},
   "source": [
    "## 6.4 演習問題 （別紙）"
   ]
  }
 ],
 "metadata": {
  "kernelspec": {
   "display_name": "Py36AI",
   "language": "python",
   "name": "python3"
  },
  "language_info": {
   "codemirror_mode": {
    "name": "ipython",
    "version": 3
   },
   "file_extension": ".py",
   "mimetype": "text/x-python",
   "name": "python",
   "nbconvert_exporter": "python",
   "pygments_lexer": "ipython3",
   "version": "3.6.7"
  },
  "toc": {
   "colors": {
    "hover_highlight": "#DAA520",
    "running_highlight": "#FF0000",
    "selected_highlight": "#FFD700"
   },
   "moveMenuLeft": true,
   "nav_menu": {
    "height": "141px",
    "width": "251px"
   },
   "navigate_menu": true,
   "number_sections": true,
   "sideBar": true,
   "threshold": 4,
   "toc_cell": false,
   "toc_section_display": "block",
   "toc_window_display": false
  }
 },
 "nbformat": 4,
 "nbformat_minor": 2
}
